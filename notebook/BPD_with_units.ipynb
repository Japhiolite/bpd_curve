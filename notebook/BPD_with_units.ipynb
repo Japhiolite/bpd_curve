{
 "cells": [
  {
   "cell_type": "markdown",
   "id": "16b95548",
   "metadata": {},
   "source": [
    "# Hacking units into BPD function\n",
    "\n",
    "Can we get `pint` units in the BPD function?\n",
    "\n",
    "## What is `pint`?\n",
    "\n",
    "[`pint`](https://pint.readthedocs.io/en/stable/) is a package for handling physical units. It's really useful — you can compute quantities in any units, and easily convert to new ones. First you'll need to install it:\n",
    "\n",
    "    pip install pint\n",
    "\n",
    "Let's have a look. First we set up the 'registry':"
   ]
  },
  {
   "cell_type": "code",
   "execution_count": 1,
   "id": "26a21580",
   "metadata": {},
   "outputs": [],
   "source": [
    "from pint import UnitRegistry\n",
    "\n",
    "u = UnitRegistry()"
   ]
  },
  {
   "cell_type": "markdown",
   "id": "f6459663",
   "metadata": {},
   "source": [
    "`pint` lets us have units for everything, and it will magically do conversions when needed."
   ]
  },
  {
   "cell_type": "code",
   "execution_count": 2,
   "id": "f6319904",
   "metadata": {},
   "outputs": [
    {
     "data": {
      "text/html": [
       "1.0968218971428572 standard_atmosphere"
      ],
      "text/latex": [
       "$1.0968218971428572\\ \\mathrm{standard\\_atmosphere}$"
      ],
      "text/plain": [
       "1.0968218971428572 <Unit('standard_atmosphere')>"
      ]
     },
     "execution_count": 2,
     "metadata": {},
     "output_type": "execute_result"
    }
   ],
   "source": [
    "rho = 1000 * u.kg / u.m**3\n",
    "g = 9.81 * u.m / u.s**2\n",
    "i = 3.281 * u.ft  # Uh oh! Mixed units!\n",
    "\n",
    "p1 = 1 * u.atm\n",
    "p2 = rho * g * i  # in Pa\n",
    "\n",
    "p = p1 + p2\n",
    "p"
   ]
  },
  {
   "cell_type": "markdown",
   "id": "f51e56ec",
   "metadata": {},
   "source": [
    "We can convert quantities:"
   ]
  },
  {
   "cell_type": "code",
   "execution_count": 3,
   "id": "788a6259",
   "metadata": {},
   "outputs": [
    {
     "data": {
      "text/html": [
       "0.11113547872799999 megapascal"
      ],
      "text/latex": [
       "$0.11113547872799999\\ \\mathrm{megapascal}$"
      ],
      "text/plain": [
       "0.11113547872799999 <Unit('megapascal')>"
      ]
     },
     "execution_count": 3,
     "metadata": {},
     "output_type": "execute_result"
    }
   ],
   "source": [
    "p.to('MPa')"
   ]
  },
  {
   "cell_type": "markdown",
   "id": "e049c487",
   "metadata": {},
   "source": [
    "NumPy can use `pint` too:"
   ]
  },
  {
   "cell_type": "code",
   "execution_count": 4,
   "id": "8dec0414",
   "metadata": {},
   "outputs": [
    {
     "data": {
      "text/html": [
       "<table><tbody><tr><th>Magnitude</th><td style='text-align:left;'><pre>[0.0 1.0968218971428572 2.1936437942857143 3.2904656914285715<br> 4.387287588571429 5.484109485714286 6.580931382857143 7.67775328<br> 8.774575177142857 9.871397074285714]</pre></td></tr><tr><th>Units</th><td style='text-align:left;'>standard_atmosphere</td></tr></tbody></table>"
      ],
      "text/latex": [
       "$\\begin{pmatrix}0.0 & 1.0968218971428572 & 2.1936437942857143 & 3.2904656914285715 & 4.387287588571429 & 5.484109485714286 & 6.580931382857143 & 7.67775328 & 8.774575177142857 & 9.871397074285714\\end{pmatrix}\\ \\mathrm{standard\\_atmosphere}$"
      ],
      "text/plain": [
       "array([0.        , 1.0968219 , 2.19364379, 3.29046569, 4.38728759,\n",
       "       5.48410949, 6.58093138, 7.67775328, 8.77457518, 9.87139707]) <Unit('standard_atmosphere')>"
      ]
     },
     "execution_count": 4,
     "metadata": {},
     "output_type": "execute_result"
    }
   ],
   "source": [
    "import numpy as np\n",
    "\n",
    "np.arange(10) * p"
   ]
  },
  {
   "cell_type": "markdown",
   "id": "a202ce39",
   "metadata": {},
   "source": [
    "However, not all libraries can use it — `iapws` doesn't like it:"
   ]
  },
  {
   "cell_type": "code",
   "execution_count": 5,
   "id": "eaf36f4d",
   "metadata": {},
   "outputs": [
    {
     "ename": "ValueError",
     "evalue": "Cannot compare Quantity and <class 'float'>",
     "output_type": "error",
     "traceback": [
      "\u001b[0;31m---------------------------------------------------------------------------\u001b[0m",
      "\u001b[0;31mValueError\u001b[0m                                Traceback (most recent call last)",
      "\u001b[0;32m<ipython-input-5-4b2cb5c49c98>\u001b[0m in \u001b[0;36m<module>\u001b[0;34m\u001b[0m\n\u001b[1;32m      3\u001b[0m \u001b[0mp\u001b[0m \u001b[0;34m=\u001b[0m \u001b[0;36m0.1\u001b[0m \u001b[0;34m*\u001b[0m \u001b[0mu\u001b[0m\u001b[0;34m.\u001b[0m\u001b[0mMPa\u001b[0m\u001b[0;34m\u001b[0m\u001b[0;34m\u001b[0m\u001b[0m\n\u001b[1;32m      4\u001b[0m \u001b[0;34m\u001b[0m\u001b[0m\n\u001b[0;32m----> 5\u001b[0;31m \u001b[0miapws\u001b[0m\u001b[0;34m.\u001b[0m\u001b[0miapws97\u001b[0m\u001b[0;34m.\u001b[0m\u001b[0m_TSat_P\u001b[0m\u001b[0;34m(\u001b[0m\u001b[0mp\u001b[0m\u001b[0;34m)\u001b[0m\u001b[0;34m\u001b[0m\u001b[0;34m\u001b[0m\u001b[0m\n\u001b[0m\u001b[1;32m      6\u001b[0m \u001b[0;34m\u001b[0m\u001b[0m\n\u001b[1;32m      7\u001b[0m \u001b[0;31m# This gives an error...\u001b[0m\u001b[0;34m\u001b[0m\u001b[0;34m\u001b[0m\u001b[0;34m\u001b[0m\u001b[0m\n",
      "\u001b[0;32m~/opt/miniconda3/envs/geohip/lib/python3.9/site-packages/iapws/iapws97.py\u001b[0m in \u001b[0;36m_TSat_P\u001b[0;34m(P)\u001b[0m\n\u001b[1;32m    352\u001b[0m     \"\"\"\n\u001b[1;32m    353\u001b[0m     \u001b[0;31m# Check input parameters\u001b[0m\u001b[0;34m\u001b[0m\u001b[0;34m\u001b[0m\u001b[0;34m\u001b[0m\u001b[0m\n\u001b[0;32m--> 354\u001b[0;31m     \u001b[0;32mif\u001b[0m \u001b[0mP\u001b[0m \u001b[0;34m<\u001b[0m \u001b[0;36m611.212677\u001b[0m\u001b[0;34m/\u001b[0m\u001b[0;36m1e6\u001b[0m \u001b[0;32mor\u001b[0m \u001b[0mP\u001b[0m \u001b[0;34m>\u001b[0m \u001b[0;36m22.064\u001b[0m\u001b[0;34m:\u001b[0m\u001b[0;34m\u001b[0m\u001b[0;34m\u001b[0m\u001b[0m\n\u001b[0m\u001b[1;32m    355\u001b[0m         \u001b[0;32mraise\u001b[0m \u001b[0mNotImplementedError\u001b[0m\u001b[0;34m(\u001b[0m\u001b[0;34m\"Incoming out of bound\"\u001b[0m\u001b[0;34m)\u001b[0m\u001b[0;34m\u001b[0m\u001b[0;34m\u001b[0m\u001b[0m\n\u001b[1;32m    356\u001b[0m \u001b[0;34m\u001b[0m\u001b[0m\n",
      "\u001b[0;32m~/opt/miniconda3/envs/geohip/lib/python3.9/site-packages/pint/quantity.py\u001b[0m in \u001b[0;36m<lambda>\u001b[0;34m(self, other)\u001b[0m\n\u001b[1;32m   1624\u001b[0m         \u001b[0;32mreturn\u001b[0m \u001b[0mop\u001b[0m\u001b[0;34m(\u001b[0m\u001b[0mself\u001b[0m\u001b[0;34m.\u001b[0m\u001b[0mto_root_units\u001b[0m\u001b[0;34m(\u001b[0m\u001b[0;34m)\u001b[0m\u001b[0;34m.\u001b[0m\u001b[0mmagnitude\u001b[0m\u001b[0;34m,\u001b[0m \u001b[0mother\u001b[0m\u001b[0;34m.\u001b[0m\u001b[0mto_root_units\u001b[0m\u001b[0;34m(\u001b[0m\u001b[0;34m)\u001b[0m\u001b[0;34m.\u001b[0m\u001b[0mmagnitude\u001b[0m\u001b[0;34m)\u001b[0m\u001b[0;34m\u001b[0m\u001b[0;34m\u001b[0m\u001b[0m\n\u001b[1;32m   1625\u001b[0m \u001b[0;34m\u001b[0m\u001b[0m\n\u001b[0;32m-> 1626\u001b[0;31m     \u001b[0m__lt__\u001b[0m \u001b[0;34m=\u001b[0m \u001b[0;32mlambda\u001b[0m \u001b[0mself\u001b[0m\u001b[0;34m,\u001b[0m \u001b[0mother\u001b[0m\u001b[0;34m:\u001b[0m \u001b[0mself\u001b[0m\u001b[0;34m.\u001b[0m\u001b[0mcompare\u001b[0m\u001b[0;34m(\u001b[0m\u001b[0mother\u001b[0m\u001b[0;34m,\u001b[0m \u001b[0mop\u001b[0m\u001b[0;34m=\u001b[0m\u001b[0moperator\u001b[0m\u001b[0;34m.\u001b[0m\u001b[0mlt\u001b[0m\u001b[0;34m)\u001b[0m\u001b[0;34m\u001b[0m\u001b[0;34m\u001b[0m\u001b[0m\n\u001b[0m\u001b[1;32m   1627\u001b[0m     \u001b[0m__le__\u001b[0m \u001b[0;34m=\u001b[0m \u001b[0;32mlambda\u001b[0m \u001b[0mself\u001b[0m\u001b[0;34m,\u001b[0m \u001b[0mother\u001b[0m\u001b[0;34m:\u001b[0m \u001b[0mself\u001b[0m\u001b[0;34m.\u001b[0m\u001b[0mcompare\u001b[0m\u001b[0;34m(\u001b[0m\u001b[0mother\u001b[0m\u001b[0;34m,\u001b[0m \u001b[0mop\u001b[0m\u001b[0;34m=\u001b[0m\u001b[0moperator\u001b[0m\u001b[0;34m.\u001b[0m\u001b[0mle\u001b[0m\u001b[0;34m)\u001b[0m\u001b[0;34m\u001b[0m\u001b[0;34m\u001b[0m\u001b[0m\n\u001b[1;32m   1628\u001b[0m     \u001b[0m__ge__\u001b[0m \u001b[0;34m=\u001b[0m \u001b[0;32mlambda\u001b[0m \u001b[0mself\u001b[0m\u001b[0;34m,\u001b[0m \u001b[0mother\u001b[0m\u001b[0;34m:\u001b[0m \u001b[0mself\u001b[0m\u001b[0;34m.\u001b[0m\u001b[0mcompare\u001b[0m\u001b[0;34m(\u001b[0m\u001b[0mother\u001b[0m\u001b[0;34m,\u001b[0m \u001b[0mop\u001b[0m\u001b[0;34m=\u001b[0m\u001b[0moperator\u001b[0m\u001b[0;34m.\u001b[0m\u001b[0mge\u001b[0m\u001b[0;34m)\u001b[0m\u001b[0;34m\u001b[0m\u001b[0;34m\u001b[0m\u001b[0m\n",
      "\u001b[0;32m~/opt/miniconda3/envs/geohip/lib/python3.9/site-packages/pint/quantity.py\u001b[0m in \u001b[0;36mwrapped\u001b[0;34m(self, *args, **kwargs)\u001b[0m\n\u001b[1;32m    113\u001b[0m         \u001b[0;32melif\u001b[0m \u001b[0misinstance\u001b[0m\u001b[0;34m(\u001b[0m\u001b[0mother\u001b[0m\u001b[0;34m,\u001b[0m \u001b[0mlist\u001b[0m\u001b[0;34m)\u001b[0m \u001b[0;32mand\u001b[0m \u001b[0mother\u001b[0m \u001b[0;32mand\u001b[0m \u001b[0misinstance\u001b[0m\u001b[0;34m(\u001b[0m\u001b[0mother\u001b[0m\u001b[0;34m[\u001b[0m\u001b[0;36m0\u001b[0m\u001b[0;34m]\u001b[0m\u001b[0;34m,\u001b[0m \u001b[0mtype\u001b[0m\u001b[0;34m(\u001b[0m\u001b[0mself\u001b[0m\u001b[0;34m)\u001b[0m\u001b[0;34m)\u001b[0m\u001b[0;34m:\u001b[0m\u001b[0;34m\u001b[0m\u001b[0;34m\u001b[0m\u001b[0m\n\u001b[1;32m    114\u001b[0m             \u001b[0;32mreturn\u001b[0m \u001b[0mNotImplemented\u001b[0m\u001b[0;34m\u001b[0m\u001b[0;34m\u001b[0m\u001b[0m\n\u001b[0;32m--> 115\u001b[0;31m         \u001b[0;32mreturn\u001b[0m \u001b[0mf\u001b[0m\u001b[0;34m(\u001b[0m\u001b[0mself\u001b[0m\u001b[0;34m,\u001b[0m \u001b[0;34m*\u001b[0m\u001b[0margs\u001b[0m\u001b[0;34m,\u001b[0m \u001b[0;34m**\u001b[0m\u001b[0mkwargs\u001b[0m\u001b[0;34m)\u001b[0m\u001b[0;34m\u001b[0m\u001b[0;34m\u001b[0m\u001b[0m\n\u001b[0m\u001b[1;32m    116\u001b[0m \u001b[0;34m\u001b[0m\u001b[0m\n\u001b[1;32m    117\u001b[0m     \u001b[0;32mreturn\u001b[0m \u001b[0mwrapped\u001b[0m\u001b[0;34m\u001b[0m\u001b[0;34m\u001b[0m\u001b[0m\n",
      "\u001b[0;32m~/opt/miniconda3/envs/geohip/lib/python3.9/site-packages/pint/quantity.py\u001b[0m in \u001b[0;36mcompare\u001b[0;34m(self, other, op)\u001b[0m\n\u001b[1;32m   1607\u001b[0m                         \u001b[0;32mraise\u001b[0m \u001b[0mOffsetUnitCalculusError\u001b[0m\u001b[0;34m(\u001b[0m\u001b[0mself\u001b[0m\u001b[0;34m.\u001b[0m\u001b[0m_units\u001b[0m\u001b[0;34m)\u001b[0m\u001b[0;34m\u001b[0m\u001b[0;34m\u001b[0m\u001b[0m\n\u001b[1;32m   1608\u001b[0m             \u001b[0;32melse\u001b[0m\u001b[0;34m:\u001b[0m\u001b[0;34m\u001b[0m\u001b[0;34m\u001b[0m\u001b[0m\n\u001b[0;32m-> 1609\u001b[0;31m                 \u001b[0;32mraise\u001b[0m \u001b[0mValueError\u001b[0m\u001b[0;34m(\u001b[0m\u001b[0;34m\"Cannot compare Quantity and {}\"\u001b[0m\u001b[0;34m.\u001b[0m\u001b[0mformat\u001b[0m\u001b[0;34m(\u001b[0m\u001b[0mtype\u001b[0m\u001b[0;34m(\u001b[0m\u001b[0mother\u001b[0m\u001b[0;34m)\u001b[0m\u001b[0;34m)\u001b[0m\u001b[0;34m)\u001b[0m\u001b[0;34m\u001b[0m\u001b[0;34m\u001b[0m\u001b[0m\n\u001b[0m\u001b[1;32m   1610\u001b[0m \u001b[0;34m\u001b[0m\u001b[0m\n\u001b[1;32m   1611\u001b[0m         \u001b[0;31m# Registry equality check based on util.SharedRegistryObject\u001b[0m\u001b[0;34m\u001b[0m\u001b[0;34m\u001b[0m\u001b[0;34m\u001b[0m\u001b[0m\n",
      "\u001b[0;31mValueError\u001b[0m: Cannot compare Quantity and <class 'float'>"
     ]
    }
   ],
   "source": [
    "import iapws\n",
    "\n",
    "p = 0.1 * u.MPa\n",
    "\n",
    "iapws.iapws97._TSat_P(p)\n",
    "\n",
    "# This gives an error..."
   ]
  },
  {
   "cell_type": "markdown",
   "id": "f9c33fd5",
   "metadata": {},
   "source": [
    "But we can get the magnitude:"
   ]
  },
  {
   "cell_type": "code",
   "execution_count": 6,
   "id": "f2780b16",
   "metadata": {},
   "outputs": [
    {
     "data": {
      "text/plain": [
       "0.1"
      ]
     },
     "execution_count": 6,
     "metadata": {},
     "output_type": "execute_result"
    }
   ],
   "source": [
    "p.magnitude  # or p.m (but this looks a bit like 'metres')"
   ]
  },
  {
   "cell_type": "markdown",
   "id": "a8eaefc9",
   "metadata": {},
   "source": [
    "Another example:"
   ]
  },
  {
   "cell_type": "code",
   "execution_count": 7,
   "id": "53be70ad",
   "metadata": {},
   "outputs": [
    {
     "data": {
      "text/html": [
       "958.3727293380052 kilogram/meter<sup>3</sup>"
      ],
      "text/latex": [
       "$958.3727293380052\\ \\frac{\\mathrm{kilogram}}{\\mathrm{meter}^{3}}$"
      ],
      "text/plain": [
       "958.3727293380052 <Unit('kilogram / meter ** 3')>"
      ]
     },
     "execution_count": 7,
     "metadata": {},
     "output_type": "execute_result"
    }
   ],
   "source": [
    "pressure = (1.01325 * u.bar).to('MPa')\n",
    "tsat = iapws.iapws97._TSat_P(pressure.magnitude)\n",
    "rho = iapws.iapws97.IAPWS97_PT(pressure.magnitude, tsat)\n",
    "rho.rho * u.kg / u.m**3"
   ]
  },
  {
   "cell_type": "markdown",
   "id": "cd04bb03",
   "metadata": {},
   "source": [
    "## Using `pint` in the BPD function"
   ]
  },
  {
   "cell_type": "code",
   "execution_count": 8,
   "id": "ecc6b47d",
   "metadata": {},
   "outputs": [],
   "source": [
    "import pint\n",
    "from pint import UnitRegistry\n",
    "from collections import namedtuple\n",
    "\n",
    "def hydrostatic_bpdc(depth, p0=None, method=\"iapws\", units='common'):\n",
    "    '''\n",
    "    Function to calculate the hydrostatic boiling point depth curve, similar to:\n",
    "    Haas Jr., J.L., 1971. The effect of salinity on the maximum thermal gradient \n",
    "    of a hydrothermal system at hydrostatic pressure. Econ. Geol. 66, 940–946.\n",
    "\n",
    "    Parameters\n",
    "    ----------\n",
    "    depth : array-like\n",
    "        An array of depths at which to evaluate the function.\n",
    "    p : float, optional\n",
    "        surface pressure of well. The default is 1.01325 bar.\n",
    "    method : string\n",
    "        Method to calculate brine density. The default is \"iapws\".\n",
    "    units : string or tuple\n",
    "        String units for depth, pressure, temperature, and density\n",
    "        respectively. The following are allowed:\n",
    "        - 'common' to use metres, bar, deg Celsius, and kg/m**3.\n",
    "        - 'SI' to use metres, Pascal, Kelvin, and kg/m**3.\n",
    "        - 'Imperial' to use feet, psia, deg Fahrenheit, and g/cm**3.\n",
    "        - tuple like ('m', 'atm', 'degC', 'g/cm**3') for custom units.\n",
    "\n",
    "    Returns\n",
    "    -------\n",
    "    namedtuple\n",
    "    '''\n",
    "    u = UnitRegistry()\n",
    "\n",
    "    g = 9.81 * u.m / u.s**2\n",
    "\n",
    "    # Assign units to everything.\n",
    "    if units == 'SI':\n",
    "        u_d, u_p, u_t, u_rho = u.m, u.pa, u.K, u.kg/u.m**3\n",
    "    if units == 'common':\n",
    "        u_d, u_p, u_t, u_rho = u.m, u.bar, u('degC'), u.kg/u.m**3\n",
    "    elif units == 'Imperial':\n",
    "        u_d, u_p, u_t, u_rho = u.ft, u.psi, u('degF'), u.g/u.cm**3\n",
    "    else:\n",
    "        u_d, u_p, u_t, u_rho = list(map(u, units))\n",
    "    \n",
    "    # Override units with pint Quantity, if possible.\n",
    "    # And compute the diff array.\n",
    "    if isinstance(depth, pint.Quantity):\n",
    "        u_d = depth.units\n",
    "    else:\n",
    "        depth = np.asanyarray(depth) * u_d\n",
    "    depth_diff = np.diff(depth)\n",
    "                \n",
    "    # Override units with pint Quantity, if possible.\n",
    "    # And deal with not getting a p0 pressure.\n",
    "    if isinstance(p0, pint.Quantity):\n",
    "        u_p = p0.units\n",
    "    elif p0 is None:\n",
    "        p0 = 101325 * u_p\n",
    "    else:\n",
    "        p0 = p0 * u_p  \n",
    "    p0 = p0.to('MPa')  # Use MPa for calculations (required by IAPWS).\n",
    "\n",
    "    # Compute using IAPWS option.\n",
    "    if method == \"iapws\":\n",
    "        pressure = np.atleast_1d(p0)\n",
    "        tsat = iapws.iapws97._TSat_P(p0.m) * u.K\n",
    "        rho = iapws.iapws97.IAPWS97_PT(p0.m, tsat.m).rho * u.kg / u.m**3\n",
    "        density = np.atleast_1d(rho)\n",
    "        \n",
    "        for i in depth_diff:\n",
    "            # Calculate new pressure for this step.\n",
    "            new_p = pressure[-1] + rho * g * i\n",
    "            pressure = np.append(pressure, new_p)  # Has units.\n",
    "            \n",
    "            # Calculate new temperature for this step.\n",
    "            t = iapws.iapws97._TSat_P(new_p.m) * u.K\n",
    "            tsat = np.append(tsat, t)\n",
    "            \n",
    "            # Calculate new density for next step.\n",
    "            rho = iapws.iapws97.IAPWS97_PT(new_p.m, t.m).rho * u.kg / u.m**3\n",
    "            density = np.append(density, rho)\n",
    "        \n",
    "        # Finalize units.\n",
    "        pressure = pressure.to(u_p)\n",
    "        tsat = tsat.to(u_t)\n",
    "        density = density.to(u_rho)\n",
    "        \n",
    "    # Return a namedtuple to the user to retain units.\n",
    "    BPD = namedtuple('BPD', ['depth', 'pressure', 'tsat', 'rho'])\n",
    "    return BPD(depth, pressure, tsat, density)"
   ]
  },
  {
   "cell_type": "markdown",
   "id": "b06bf1f0",
   "metadata": {},
   "source": [
    "## Test it out!\n",
    "\n",
    "Read dataset and compute gauge pressure."
   ]
  },
  {
   "cell_type": "code",
   "execution_count": 9,
   "id": "b89c8a1b",
   "metadata": {},
   "outputs": [],
   "source": [
    "import pandas as pd\n",
    "\n",
    "url = \"https://raw.githubusercontent.com/ICWallis/T21-Tutorial-WellTestAnalysis/main/Data-Temp-Heating37days.csv\"\n",
    "\n",
    "df = pd.read_csv(url)\n",
    "\n",
    "df['pres_bara'] = df['pres_barg'] - (1 * u.atm).to('bar').magnitude"
   ]
  },
  {
   "cell_type": "code",
   "execution_count": 10,
   "id": "34ca7cee",
   "metadata": {},
   "outputs": [
    {
     "data": {
      "text/html": [
       "<div>\n",
       "<style scoped>\n",
       "    .dataframe tbody tr th:only-of-type {\n",
       "        vertical-align: middle;\n",
       "    }\n",
       "\n",
       "    .dataframe tbody tr th {\n",
       "        vertical-align: top;\n",
       "    }\n",
       "\n",
       "    .dataframe thead th {\n",
       "        text-align: right;\n",
       "    }\n",
       "</style>\n",
       "<table border=\"1\" class=\"dataframe\">\n",
       "  <thead>\n",
       "    <tr style=\"text-align: right;\">\n",
       "      <th></th>\n",
       "      <th>depth_m</th>\n",
       "      <th>whp_barg</th>\n",
       "      <th>pres_barg</th>\n",
       "      <th>temp_degC</th>\n",
       "      <th>pres_bara</th>\n",
       "    </tr>\n",
       "  </thead>\n",
       "  <tbody>\n",
       "    <tr>\n",
       "      <th>0</th>\n",
       "      <td>0.0</td>\n",
       "      <td>4.019268</td>\n",
       "      <td>3.929268</td>\n",
       "      <td>10.48</td>\n",
       "      <td>2.916018</td>\n",
       "    </tr>\n",
       "    <tr>\n",
       "      <th>1</th>\n",
       "      <td>10.5</td>\n",
       "      <td>4.019268</td>\n",
       "      <td>3.929268</td>\n",
       "      <td>10.86</td>\n",
       "      <td>2.916018</td>\n",
       "    </tr>\n",
       "    <tr>\n",
       "      <th>2</th>\n",
       "      <td>20.7</td>\n",
       "      <td>4.019268</td>\n",
       "      <td>3.929268</td>\n",
       "      <td>11.63</td>\n",
       "      <td>2.916018</td>\n",
       "    </tr>\n",
       "    <tr>\n",
       "      <th>3</th>\n",
       "      <td>30.4</td>\n",
       "      <td>4.019268</td>\n",
       "      <td>3.939268</td>\n",
       "      <td>12.25</td>\n",
       "      <td>2.926018</td>\n",
       "    </tr>\n",
       "    <tr>\n",
       "      <th>4</th>\n",
       "      <td>40.3</td>\n",
       "      <td>4.019268</td>\n",
       "      <td>3.949268</td>\n",
       "      <td>12.77</td>\n",
       "      <td>2.936018</td>\n",
       "    </tr>\n",
       "    <tr>\n",
       "      <th>...</th>\n",
       "      <td>...</td>\n",
       "      <td>...</td>\n",
       "      <td>...</td>\n",
       "      <td>...</td>\n",
       "      <td>...</td>\n",
       "    </tr>\n",
       "    <tr>\n",
       "      <th>89</th>\n",
       "      <td>890.8</td>\n",
       "      <td>4.019268</td>\n",
       "      <td>48.759268</td>\n",
       "      <td>230.79</td>\n",
       "      <td>47.746018</td>\n",
       "    </tr>\n",
       "    <tr>\n",
       "      <th>90</th>\n",
       "      <td>900.7</td>\n",
       "      <td>4.019268</td>\n",
       "      <td>49.549268</td>\n",
       "      <td>230.82</td>\n",
       "      <td>48.536018</td>\n",
       "    </tr>\n",
       "    <tr>\n",
       "      <th>91</th>\n",
       "      <td>910.5</td>\n",
       "      <td>4.019268</td>\n",
       "      <td>50.359268</td>\n",
       "      <td>230.81</td>\n",
       "      <td>49.346018</td>\n",
       "    </tr>\n",
       "    <tr>\n",
       "      <th>92</th>\n",
       "      <td>920.4</td>\n",
       "      <td>4.079268</td>\n",
       "      <td>51.169268</td>\n",
       "      <td>230.56</td>\n",
       "      <td>50.156018</td>\n",
       "    </tr>\n",
       "    <tr>\n",
       "      <th>93</th>\n",
       "      <td>926.4</td>\n",
       "      <td>4.019268</td>\n",
       "      <td>51.669268</td>\n",
       "      <td>230.40</td>\n",
       "      <td>50.656018</td>\n",
       "    </tr>\n",
       "  </tbody>\n",
       "</table>\n",
       "<p>94 rows × 5 columns</p>\n",
       "</div>"
      ],
      "text/plain": [
       "    depth_m  whp_barg  pres_barg  temp_degC  pres_bara\n",
       "0       0.0  4.019268   3.929268      10.48   2.916018\n",
       "1      10.5  4.019268   3.929268      10.86   2.916018\n",
       "2      20.7  4.019268   3.929268      11.63   2.916018\n",
       "3      30.4  4.019268   3.939268      12.25   2.926018\n",
       "4      40.3  4.019268   3.949268      12.77   2.936018\n",
       "..      ...       ...        ...        ...        ...\n",
       "89    890.8  4.019268  48.759268     230.79  47.746018\n",
       "90    900.7  4.019268  49.549268     230.82  48.536018\n",
       "91    910.5  4.019268  50.359268     230.81  49.346018\n",
       "92    920.4  4.079268  51.169268     230.56  50.156018\n",
       "93    926.4  4.019268  51.669268     230.40  50.656018\n",
       "\n",
       "[94 rows x 5 columns]"
      ]
     },
     "execution_count": 10,
     "metadata": {},
     "output_type": "execute_result"
    }
   ],
   "source": [
    "df"
   ]
  },
  {
   "cell_type": "markdown",
   "id": "7980e26a",
   "metadata": {},
   "source": [
    "Now we can calculate the BPD curve."
   ]
  },
  {
   "cell_type": "code",
   "execution_count": 11,
   "id": "c1e8b67b",
   "metadata": {},
   "outputs": [
    {
     "data": {
      "text/plain": [
       "BPD(depth=<Quantity([  0.   10.5  20.7  30.4  40.3  50.1  61.1  70.8  80.5  90.3 100.2 110.7\n",
       " 120.4 130.5 140.5 150.7 160.7 170.3 181.1 190.7 200.1 210.4 220.2 230.2\n",
       " 240.2 250.2 260.3 270.2 280.1 291.2 301.1 311.1 320.9 330.4 340.1 350.9\n",
       " 360.2 370.8 380.4 390.1 400.1 411.  420.7 430.2 441.  450.4 460.9 470.8\n",
       " 480.9 490.8 500.9 510.8 520.4 530.1 541.  550.5 560.8 570.3 580.2 590.\n",
       " 600.  610.2 620.1 631.  640.7 651.1 660.8 670.7 680.6 690.6 700.3 711.1\n",
       " 720.7 730.3 741.1 750.5 760.8 770.3 780.1 791.2 801.2 811.2 820.1 831.\n",
       " 840.7 850.4 860.1 870.8 880.  890.8 900.7 910.5 920.4 926.4], 'meter')>, pressure=<Quantity([ 2.91601773  3.87668905  4.80116418  5.67348125  6.5579369   7.42813206\n",
       "  8.39946787  9.2510689  10.0986162  10.95104422 11.8084436  12.71401007\n",
       " 13.54703507 14.41114783 15.26347172 16.12969803 16.97590523 17.7855023\n",
       " 18.69340625 19.49762435 20.28271336 21.14048631 21.95409333 22.78191071\n",
       " 23.60734047 24.43043477 25.25945061 26.06981016 26.87801647 27.78181742\n",
       " 28.58558458 29.39541379 30.18704408 30.95256894 31.7323853  32.59858994\n",
       " 33.34255731 34.18865218 34.95302467 35.72364243 36.51632763 37.3783945\n",
       " 38.1436779  38.89156661 39.74001922 40.4767471  41.29801511 42.07061042\n",
       " 42.85715502 43.62648266 44.40972683 45.17585153 45.91724488 46.6648897\n",
       " 47.50337064 48.23254948 49.02162766 49.74792551 50.50338144 51.24975018\n",
       " 52.00989141 52.783728   53.53332374 54.35706551 55.08859265 55.87146387\n",
       " 56.60020535 57.3426145  58.08364681 58.83078258 59.55415916 60.35812449\n",
       " 61.07134049 61.78330237 62.58285666 63.27739946 64.03714641 64.73658261\n",
       " 65.45687503 66.2712853  67.00353584 67.73448522 68.38387807 69.17795217\n",
       " 69.88324963 70.58734682 71.29024928 72.06430397 72.72860771 73.50719811\n",
       " 74.21957258 74.92354696 75.6335054  76.06305196], 'bar')>, tsat=<Quantity([132.5596512  142.48713946 150.31357793 156.65782182 162.33917348\n",
       " 167.36183211 172.44420583 176.53054199 180.31251833 183.87196077\n",
       " 187.23880727 190.59255345 193.51621656 196.40397789 199.12273518\n",
       " 201.76708011 204.24553802 206.52833776 208.99417923 211.10189822\n",
       " 213.09539205 215.20620255 217.14789196 219.067159   220.92792648\n",
       " 222.73402503 224.50623229 226.19569747 227.84080792 229.6359519\n",
       " 231.19500335 232.7320517  234.20338537 235.59824435 236.99214163\n",
       " 238.50993679 239.78901247 241.21731717 242.48452968 243.74075733\n",
       " 245.01146185 246.36960904 247.55531091 248.69658355 249.9711441\n",
       " 251.06107832 252.25832927 253.36810582 254.48201616 255.55651714\n",
       " 256.63567025 257.6772474  258.67242246 259.66362765 260.7609258\n",
       " 261.70321504 262.71072645 263.6271868  264.56965856 265.49027739\n",
       " 266.41741856 267.35069439 268.24482469 269.21643917 270.06990442\n",
       " 270.97373976 271.80643276 272.64636774 273.47650567 274.30533451\n",
       " 275.10018382 275.97498163 276.74361834 277.50409741 278.35020181\n",
       " 279.07850691 279.86822735 280.58895623 281.32498636 282.14977566\n",
       " 282.88477318 283.61236925 284.25376714 285.03176992 285.71708993\n",
       " 286.39599033 287.06859435 287.80344248 288.42930106 289.15729133\n",
       " 289.81821967 290.46660356 291.11579453 291.50631354], 'degree_Celsius')>, rho=<Quantity([932.64532278 923.90231704 916.71350328 910.69270492 905.15214115\n",
       " 900.13512235 894.94311705 890.68308984 886.67126112 882.83381868\n",
       " 879.14806827 875.42167116 872.1276196  868.83169168 865.68958461\n",
       " 862.59652895 859.66389558 856.93354523 853.95227693 851.37724328\n",
       " 848.91873076 846.29077039 843.85054042 841.41667356 839.03598053\n",
       " 836.70516039 834.39858048 832.18145333 830.00518463 827.61062673\n",
       " 825.5139759  823.43120642 821.42267349 819.50498249 817.57526209\n",
       " 815.45863337 813.66229101 811.64254562 809.83822796 808.0379202\n",
       " 806.20493389 804.2323686  802.49875482 800.81983804 798.93279035\n",
       " 797.30887545 795.51407112 793.83998901 792.14946883 790.5089507\n",
       " 788.8515137  787.24234188 785.6960827  784.14736319 782.42270796\n",
       " 780.9330494  779.33134235 777.86626399 776.35143449 774.86363541\n",
       " 773.35711257 771.83222507 770.36329825 768.75808764 767.34025182\n",
       " 765.83066172 764.43245155 763.01476114 761.6062959  760.19271238\n",
       " 758.83010935 757.32246198 755.99078051 754.66671432 753.18585363\n",
       " 751.90458144 750.50829384 749.22758372 747.91329929 746.43276261\n",
       " 745.10640869 743.78683335 742.61809669 741.19345316 739.93210299\n",
       " 738.67656346 737.42670523 736.05431559 734.87975108 733.50680948\n",
       " 732.25402307 731.01909898 729.77669808 729.02644293], 'kilogram / meter ** 3')>)"
      ]
     },
     "execution_count": 11,
     "metadata": {},
     "output_type": "execute_result"
    }
   ],
   "source": [
    "hyd = hydrostatic_bpdc(depth=df['depth_m'], \n",
    "                       p0=df[\"pres_bara\"].min(),\n",
    "                       method='iapws',\n",
    "                       units=['m', 'bar', 'degC', 'kg/m**3'],\n",
    "                      )\n",
    "\n",
    "hyd"
   ]
  },
  {
   "cell_type": "markdown",
   "id": "1d5963a9",
   "metadata": {},
   "source": [
    "## Get a `pandas.DataFrame`"
   ]
  },
  {
   "cell_type": "markdown",
   "id": "279d61a9",
   "metadata": {},
   "source": [
    "We can carry the units into a `pandas.DataFrame`:"
   ]
  },
  {
   "cell_type": "code",
   "execution_count": 12,
   "id": "f392780c",
   "metadata": {},
   "outputs": [
    {
     "data": {
      "text/html": [
       "<div>\n",
       "<style scoped>\n",
       "    .dataframe tbody tr th:only-of-type {\n",
       "        vertical-align: middle;\n",
       "    }\n",
       "\n",
       "    .dataframe tbody tr th {\n",
       "        vertical-align: top;\n",
       "    }\n",
       "\n",
       "    .dataframe thead th {\n",
       "        text-align: right;\n",
       "    }\n",
       "</style>\n",
       "<table border=\"1\" class=\"dataframe\">\n",
       "  <thead>\n",
       "    <tr style=\"text-align: right;\">\n",
       "      <th></th>\n",
       "      <th>depth</th>\n",
       "      <th>pressure</th>\n",
       "      <th>tsat</th>\n",
       "      <th>rho</th>\n",
       "    </tr>\n",
       "  </thead>\n",
       "  <tbody>\n",
       "    <tr>\n",
       "      <th>0</th>\n",
       "      <td>0.0 meter</td>\n",
       "      <td>2.916017731307572 bar</td>\n",
       "      <td>132.55965119728978 degree_Celsius</td>\n",
       "      <td>932.6453227768354 kilogram / meter ** 3</td>\n",
       "    </tr>\n",
       "    <tr>\n",
       "      <th>1</th>\n",
       "      <td>10.5 meter</td>\n",
       "      <td>3.8766890460338517 bar</td>\n",
       "      <td>142.48713946105977 degree_Celsius</td>\n",
       "      <td>923.9023170397114 kilogram / meter ** 3</td>\n",
       "    </tr>\n",
       "    <tr>\n",
       "      <th>2</th>\n",
       "      <td>20.7 meter</td>\n",
       "      <td>4.801164182510128 bar</td>\n",
       "      <td>150.31357792517576 degree_Celsius</td>\n",
       "      <td>916.7135032819888 kilogram / meter ** 3</td>\n",
       "    </tr>\n",
       "    <tr>\n",
       "      <th>3</th>\n",
       "      <td>30.4 meter</td>\n",
       "      <td>5.67348125082817 bar</td>\n",
       "      <td>156.65782181639696 degree_Celsius</td>\n",
       "      <td>910.6927049160709 kilogram / meter ** 3</td>\n",
       "    </tr>\n",
       "    <tr>\n",
       "      <th>4</th>\n",
       "      <td>40.3 meter</td>\n",
       "      <td>6.557936898915608 bar</td>\n",
       "      <td>162.3391734790648 degree_Celsius</td>\n",
       "      <td>905.1521411464424 kilogram / meter ** 3</td>\n",
       "    </tr>\n",
       "  </tbody>\n",
       "</table>\n",
       "</div>"
      ],
      "text/plain": [
       "        depth                pressure                               tsat  \\\n",
       "0   0.0 meter   2.916017731307572 bar  132.55965119728978 degree_Celsius   \n",
       "1  10.5 meter  3.8766890460338517 bar  142.48713946105977 degree_Celsius   \n",
       "2  20.7 meter   4.801164182510128 bar  150.31357792517576 degree_Celsius   \n",
       "3  30.4 meter    5.67348125082817 bar  156.65782181639696 degree_Celsius   \n",
       "4  40.3 meter   6.557936898915608 bar   162.3391734790648 degree_Celsius   \n",
       "\n",
       "                                       rho  \n",
       "0  932.6453227768354 kilogram / meter ** 3  \n",
       "1  923.9023170397114 kilogram / meter ** 3  \n",
       "2  916.7135032819888 kilogram / meter ** 3  \n",
       "3  910.6927049160709 kilogram / meter ** 3  \n",
       "4  905.1521411464424 kilogram / meter ** 3  "
      ]
     },
     "execution_count": 12,
     "metadata": {},
     "output_type": "execute_result"
    }
   ],
   "source": [
    "df = pd.DataFrame(hyd).T  # I don't really know why we have to transpose here.\n",
    "df.columns = columns=hyd._fields\n",
    "df.head()"
   ]
  },
  {
   "cell_type": "markdown",
   "id": "f396dded",
   "metadata": {},
   "source": [
    "Or we can throw the units out:"
   ]
  },
  {
   "cell_type": "code",
   "execution_count": 13,
   "id": "e44be90f",
   "metadata": {},
   "outputs": [
    {
     "name": "stderr",
     "output_type": "stream",
     "text": [
      "/Users/matt/opt/miniconda3/envs/geohip/lib/python3.9/site-packages/pandas/core/dtypes/cast.py:1302: UnitStrippedWarning: The unit of the quantity is stripped when downcasting to ndarray.\n",
      "  v = np.array(v, copy=False)\n",
      "/Users/matt/opt/miniconda3/envs/geohip/lib/python3.9/site-packages/pandas/core/dtypes/cast.py:1672: UnitStrippedWarning: The unit of the quantity is stripped when downcasting to ndarray.\n",
      "  subarr = np.array(values, dtype=dtype, copy=copy)\n"
     ]
    },
    {
     "data": {
      "text/html": [
       "<div>\n",
       "<style scoped>\n",
       "    .dataframe tbody tr th:only-of-type {\n",
       "        vertical-align: middle;\n",
       "    }\n",
       "\n",
       "    .dataframe tbody tr th {\n",
       "        vertical-align: top;\n",
       "    }\n",
       "\n",
       "    .dataframe thead th {\n",
       "        text-align: right;\n",
       "    }\n",
       "</style>\n",
       "<table border=\"1\" class=\"dataframe\">\n",
       "  <thead>\n",
       "    <tr style=\"text-align: right;\">\n",
       "      <th></th>\n",
       "      <th>depth</th>\n",
       "      <th>pressure</th>\n",
       "      <th>tsat</th>\n",
       "      <th>rho</th>\n",
       "    </tr>\n",
       "  </thead>\n",
       "  <tbody>\n",
       "    <tr>\n",
       "      <th>0</th>\n",
       "      <td>0.0</td>\n",
       "      <td>2.916018</td>\n",
       "      <td>132.559651</td>\n",
       "      <td>932.645323</td>\n",
       "    </tr>\n",
       "    <tr>\n",
       "      <th>1</th>\n",
       "      <td>10.5</td>\n",
       "      <td>3.876689</td>\n",
       "      <td>142.487139</td>\n",
       "      <td>923.902317</td>\n",
       "    </tr>\n",
       "    <tr>\n",
       "      <th>2</th>\n",
       "      <td>20.7</td>\n",
       "      <td>4.801164</td>\n",
       "      <td>150.313578</td>\n",
       "      <td>916.713503</td>\n",
       "    </tr>\n",
       "    <tr>\n",
       "      <th>3</th>\n",
       "      <td>30.4</td>\n",
       "      <td>5.673481</td>\n",
       "      <td>156.657822</td>\n",
       "      <td>910.692705</td>\n",
       "    </tr>\n",
       "    <tr>\n",
       "      <th>4</th>\n",
       "      <td>40.3</td>\n",
       "      <td>6.557937</td>\n",
       "      <td>162.339173</td>\n",
       "      <td>905.152141</td>\n",
       "    </tr>\n",
       "  </tbody>\n",
       "</table>\n",
       "</div>"
      ],
      "text/plain": [
       "   depth  pressure        tsat         rho\n",
       "0    0.0  2.916018  132.559651  932.645323\n",
       "1   10.5  3.876689  142.487139  923.902317\n",
       "2   20.7  4.801164  150.313578  916.713503\n",
       "3   30.4  5.673481  156.657822  910.692705\n",
       "4   40.3  6.557937  162.339173  905.152141"
      ]
     },
     "execution_count": 13,
     "metadata": {},
     "output_type": "execute_result"
    }
   ],
   "source": [
    "df = pd.DataFrame(hyd._asdict())\n",
    "df.head()"
   ]
  },
  {
   "cell_type": "code",
   "execution_count": null,
   "id": "02e2a68a",
   "metadata": {},
   "outputs": [],
   "source": []
  }
 ],
 "metadata": {
  "kernelspec": {
   "display_name": "geohip",
   "language": "python",
   "name": "geohip"
  },
  "language_info": {
   "codemirror_mode": {
    "name": "ipython",
    "version": 3
   },
   "file_extension": ".py",
   "mimetype": "text/x-python",
   "name": "python",
   "nbconvert_exporter": "python",
   "pygments_lexer": "ipython3",
   "version": "3.9.4"
  }
 },
 "nbformat": 4,
 "nbformat_minor": 5
}
